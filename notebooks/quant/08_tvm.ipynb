{
  "nbformat": 4,
  "nbformat_minor": 0,
  "metadata": {
    "colab": {
      "provenance": [],
      "authorship_tag": "ABX9TyMLI3k7eE5Px+1oC91QVviY",
      "include_colab_link": true
    },
    "kernelspec": {
      "name": "python3",
      "display_name": "Python 3"
    },
    "language_info": {
      "name": "python"
    }
  },
  "cells": [
    {
      "cell_type": "markdown",
      "metadata": {
        "id": "view-in-github",
        "colab_type": "text"
      },
      "source": [
        "<a href=\"https://colab.research.google.com/github/VD-art/cfa-curriculum-python/blob/main/notebooks/quant/08_tvm.ipynb\" target=\"_parent\"><img src=\"https://colab.research.google.com/assets/colab-badge.svg\" alt=\"Open In Colab\"/></a>"
      ]
    },
    {
      "cell_type": "markdown",
      "source": [
        "# 📍 Lesson 2 – Time Value of Money (TVM)\n",
        "\n",
        "- Single sum: PV & FV\n",
        "- Ordinary annuity: PV & FV\n",
        "- Uneven cash flows: PV\n"
      ],
      "metadata": {
        "id": "y14RrwpT-V1Q"
      }
    },
    {
      "cell_type": "code",
      "execution_count": 1,
      "metadata": {
        "colab": {
          "base_uri": "https://localhost:8080/"
        },
        "id": "dq-C3rfT-Faz",
        "outputId": "bf73ee26-5fab-41f8-930f-d2b3275a108c"
      },
      "outputs": [
        {
          "output_type": "stream",
          "name": "stdout",
          "text": [
            "Cloning into 'cfa-curriculum-python'...\n",
            "remote: Enumerating objects: 158, done.\u001b[K\n",
            "remote: Counting objects: 100% (158/158), done.\u001b[K\n",
            "remote: Compressing objects: 100% (126/126), done.\u001b[K\n",
            "remote: Total 158 (delta 53), reused 0 (delta 0), pack-reused 0 (from 0)\u001b[K\n",
            "Receiving objects: 100% (158/158), 126.31 KiB | 2.38 MiB/s, done.\n",
            "Resolving deltas: 100% (53/53), done.\n",
            "Requirement already satisfied: numpy in /usr/local/lib/python3.11/dist-packages (from -r /content/cfa-curriculum-python/requirements.txt (line 1)) (2.0.2)\n",
            "Collecting numpy-financial (from -r /content/cfa-curriculum-python/requirements.txt (line 2))\n",
            "  Downloading numpy_financial-1.0.0-py3-none-any.whl.metadata (2.2 kB)\n",
            "Requirement already satisfied: scipy in /usr/local/lib/python3.11/dist-packages (from -r /content/cfa-curriculum-python/requirements.txt (line 3)) (1.15.3)\n",
            "Requirement already satisfied: pandas in /usr/local/lib/python3.11/dist-packages (from -r /content/cfa-curriculum-python/requirements.txt (line 4)) (2.2.2)\n",
            "Requirement already satisfied: matplotlib in /usr/local/lib/python3.11/dist-packages (from -r /content/cfa-curriculum-python/requirements.txt (line 5)) (3.10.0)\n",
            "Requirement already satisfied: python-dateutil>=2.8.2 in /usr/local/lib/python3.11/dist-packages (from pandas->-r /content/cfa-curriculum-python/requirements.txt (line 4)) (2.9.0.post0)\n",
            "Requirement already satisfied: pytz>=2020.1 in /usr/local/lib/python3.11/dist-packages (from pandas->-r /content/cfa-curriculum-python/requirements.txt (line 4)) (2025.2)\n",
            "Requirement already satisfied: tzdata>=2022.7 in /usr/local/lib/python3.11/dist-packages (from pandas->-r /content/cfa-curriculum-python/requirements.txt (line 4)) (2025.2)\n",
            "Requirement already satisfied: contourpy>=1.0.1 in /usr/local/lib/python3.11/dist-packages (from matplotlib->-r /content/cfa-curriculum-python/requirements.txt (line 5)) (1.3.2)\n",
            "Requirement already satisfied: cycler>=0.10 in /usr/local/lib/python3.11/dist-packages (from matplotlib->-r /content/cfa-curriculum-python/requirements.txt (line 5)) (0.12.1)\n",
            "Requirement already satisfied: fonttools>=4.22.0 in /usr/local/lib/python3.11/dist-packages (from matplotlib->-r /content/cfa-curriculum-python/requirements.txt (line 5)) (4.58.4)\n",
            "Requirement already satisfied: kiwisolver>=1.3.1 in /usr/local/lib/python3.11/dist-packages (from matplotlib->-r /content/cfa-curriculum-python/requirements.txt (line 5)) (1.4.8)\n",
            "Requirement already satisfied: packaging>=20.0 in /usr/local/lib/python3.11/dist-packages (from matplotlib->-r /content/cfa-curriculum-python/requirements.txt (line 5)) (24.2)\n",
            "Requirement already satisfied: pillow>=8 in /usr/local/lib/python3.11/dist-packages (from matplotlib->-r /content/cfa-curriculum-python/requirements.txt (line 5)) (11.2.1)\n",
            "Requirement already satisfied: pyparsing>=2.3.1 in /usr/local/lib/python3.11/dist-packages (from matplotlib->-r /content/cfa-curriculum-python/requirements.txt (line 5)) (3.2.3)\n",
            "Requirement already satisfied: six>=1.5 in /usr/local/lib/python3.11/dist-packages (from python-dateutil>=2.8.2->pandas->-r /content/cfa-curriculum-python/requirements.txt (line 4)) (1.17.0)\n",
            "Downloading numpy_financial-1.0.0-py3-none-any.whl (14 kB)\n",
            "Installing collected packages: numpy-financial\n",
            "Successfully installed numpy-financial-1.0.0\n"
          ]
        }
      ],
      "source": [
        "# Step 1: Clone your repo\n",
        "!git clone https://github.com/VD-art/cfa-curriculum-python.git\n",
        "\n",
        "# Step 2: Install required packages\n",
        "!pip install -r /content/cfa-curriculum-python/requirements.txt\n",
        "\n",
        "# Step 3: Add repo to Python path\n",
        "import sys\n",
        "sys.path.append('/content/cfa-curriculum-python')\n"
      ]
    },
    {
      "cell_type": "code",
      "source": [
        "from scripts.quant.tvm import (\n",
        "    future_value, present_value,\n",
        "    future_value_annuity, present_value_annuity,\n",
        "    present_value_uneven_cash_flows\n",
        ")"
      ],
      "metadata": {
        "id": "qNTzF4ZJ-IQD"
      },
      "execution_count": 2,
      "outputs": []
    },
    {
      "cell_type": "code",
      "source": [
        "import pandas as pd\n",
        "\n",
        "df = pd.read_csv('/content/cfa-curriculum-python/data/quant/cash_flows.csv')\n",
        "print(df)\n"
      ],
      "metadata": {
        "colab": {
          "base_uri": "https://localhost:8080/"
        },
        "id": "921_rHa4-PKS",
        "outputId": "f473d43d-6880-40f7-fca6-7de06d63fe0d"
      },
      "execution_count": 3,
      "outputs": [
        {
          "output_type": "stream",
          "name": "stdout",
          "text": [
            "   period  cash_flow\n",
            "0       1        100\n",
            "1       2        150\n",
            "2       3        200\n",
            "3       4        250\n"
          ]
        }
      ]
    },
    {
      "cell_type": "code",
      "source": [
        "pv = 1000\n",
        "rate = 0.05\n",
        "n = 3\n",
        "\n",
        "fv = future_value(pv, rate, n)\n",
        "print(f\"Future value of ₹1000 in 3 years at 5%: {fv:.2f}\")\n",
        "\n",
        "fv_target = 1150\n",
        "pv_calc = present_value(fv_target, rate, n)\n",
        "print(f\"Present value needed today to get ₹1150 in 3 years: {pv_calc:.2f}\")\n"
      ],
      "metadata": {
        "colab": {
          "base_uri": "https://localhost:8080/"
        },
        "id": "HmFmgmZl-j7J",
        "outputId": "e4791762-1d28-4ac0-92cf-ec53db4e0f14"
      },
      "execution_count": 4,
      "outputs": [
        {
          "output_type": "stream",
          "name": "stdout",
          "text": [
            "Future value of ₹1000 in 3 years at 5%: 1157.63\n",
            "Present value needed today to get ₹1150 in 3 years: 993.41\n"
          ]
        }
      ]
    },
    {
      "cell_type": "code",
      "source": [
        "payment = 500\n",
        "n = 4\n",
        "\n",
        "fv_ann = future_value_annuity(payment, rate, n)\n",
        "pv_ann = present_value_annuity(payment, rate, n)\n",
        "\n",
        "print(f\"Future value of annuity: {fv_ann:.2f}\")\n",
        "print(f\"Present value of annuity: {pv_ann:.2f}\")\n"
      ],
      "metadata": {
        "colab": {
          "base_uri": "https://localhost:8080/"
        },
        "id": "aV0Ol1ls-4a9",
        "outputId": "f1540830-d2db-4928-890c-be6f2c4a21f8"
      },
      "execution_count": 5,
      "outputs": [
        {
          "output_type": "stream",
          "name": "stdout",
          "text": [
            "Future value of annuity: 2155.06\n",
            "Present value of annuity: 1772.98\n"
          ]
        }
      ]
    },
    {
      "cell_type": "code",
      "source": [
        "cash_flows = list(zip(df['cash_flow'], df['period']))\n",
        "pv_uneven = present_value_uneven_cash_flows(cash_flows, rate)\n",
        "\n",
        "print(f\"Present value of uneven cash flows at 5%: {pv_uneven:.2f}\")\n"
      ],
      "metadata": {
        "colab": {
          "base_uri": "https://localhost:8080/"
        },
        "id": "BCWUdgeS_K7k",
        "outputId": "283dd03c-11f5-418a-ffd1-b7c2959ca678"
      },
      "execution_count": 6,
      "outputs": [
        {
          "output_type": "stream",
          "name": "stdout",
          "text": [
            "Present value of uneven cash flows at 5%: 609.74\n"
          ]
        }
      ]
    },
    {
      "cell_type": "code",
      "source": [
        "import matplotlib.pyplot as plt\n",
        "\n",
        "plt.bar(df['period'], df['cash_flow'])\n",
        "plt.xlabel('Period')\n",
        "plt.ylabel('Cash Flow')\n",
        "plt.title('Uneven cash flows')\n",
        "plt.show()\n"
      ],
      "metadata": {
        "colab": {
          "base_uri": "https://localhost:8080/",
          "height": 472
        },
        "id": "dJ7qolbS_y2Y",
        "outputId": "b5caabcd-4c66-4115-95b0-5cd5f6dbe2ab"
      },
      "execution_count": 7,
      "outputs": [
        {
          "output_type": "display_data",
          "data": {
            "text/plain": [
              "<Figure size 640x480 with 1 Axes>"
            ],
            "image/png": "[encoded data removed]"
          },
          "metadata": {}
        }
      ]
    }
  ]
}