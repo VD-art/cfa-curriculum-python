{
  "nbformat": 4,
  "nbformat_minor": 0,
  "metadata": {
    "colab": {
      "provenance": [],
      "authorship_tag": "ABX9TyNYb2OSTvrJ4TywkMMp/5ux",
      "include_colab_link": true
    },
    "kernelspec": {
      "name": "python3",
      "display_name": "Python 3"
    },
    "language_info": {
      "name": "python"
    }
  },
  "cells": [
    {
      "cell_type": "markdown",
      "metadata": {
        "id": "view-in-github",
        "colab_type": "text"
      },
      "source": [
        "<a href=\"https://colab.research.google.com/github/VD-art/cfa-curriculum-python/blob/main/notebooks/quant/05_annualized_returns.ipynb\" target=\"_parent\"><img src=\"https://colab.research.google.com/assets/colab-badge.svg\" alt=\"Open In Colab\"/></a>"
      ]
    },
    {
      "cell_type": "markdown",
      "source": [
        "# 📍 Lesson 1 – Annualized Return & Continuous Compounding\n",
        "\n",
        "We cover:\n",
        "- Annualizing returns\n",
        "- Effective annual rate (EAR)\n",
        "- Continuous compounding (ln & exp)\n"
      ],
      "metadata": {
        "id": "7-Ha4fH85kU5"
      }
    },
    {
      "cell_type": "code",
      "execution_count": 1,
      "metadata": {
        "colab": {
          "base_uri": "https://localhost:8080/"
        },
        "id": "aGpaCBDJ5h_d",
        "outputId": "d0efb9d4-a109-41f2-a41f-9beb091bd34a"
      },
      "outputs": [
        {
          "output_type": "stream",
          "name": "stdout",
          "text": [
            "Cloning into 'cfa-curriculum-python'...\n",
            "remote: Enumerating objects: 118, done.\u001b[K\n",
            "remote: Counting objects: 100% (118/118), done.\u001b[K\n",
            "remote: Compressing objects: 100% (95/95), done.\u001b[K\n",
            "remote: Total 118 (delta 39), reused 0 (delta 0), pack-reused 0 (from 0)\u001b[K\n",
            "Receiving objects: 100% (118/118), 70.84 KiB | 585.00 KiB/s, done.\n",
            "Resolving deltas: 100% (39/39), done.\n",
            "Requirement already satisfied: numpy in /usr/local/lib/python3.11/dist-packages (from -r /content/cfa-curriculum-python/requirements.txt (line 1)) (2.0.2)\n",
            "Collecting numpy-financial (from -r /content/cfa-curriculum-python/requirements.txt (line 2))\n",
            "  Downloading numpy_financial-1.0.0-py3-none-any.whl.metadata (2.2 kB)\n",
            "Requirement already satisfied: scipy in /usr/local/lib/python3.11/dist-packages (from -r /content/cfa-curriculum-python/requirements.txt (line 3)) (1.15.3)\n",
            "Requirement already satisfied: pandas in /usr/local/lib/python3.11/dist-packages (from -r /content/cfa-curriculum-python/requirements.txt (line 4)) (2.2.2)\n",
            "Requirement already satisfied: matplotlib in /usr/local/lib/python3.11/dist-packages (from -r /content/cfa-curriculum-python/requirements.txt (line 5)) (3.10.0)\n",
            "Requirement already satisfied: python-dateutil>=2.8.2 in /usr/local/lib/python3.11/dist-packages (from pandas->-r /content/cfa-curriculum-python/requirements.txt (line 4)) (2.9.0.post0)\n",
            "Requirement already satisfied: pytz>=2020.1 in /usr/local/lib/python3.11/dist-packages (from pandas->-r /content/cfa-curriculum-python/requirements.txt (line 4)) (2025.2)\n",
            "Requirement already satisfied: tzdata>=2022.7 in /usr/local/lib/python3.11/dist-packages (from pandas->-r /content/cfa-curriculum-python/requirements.txt (line 4)) (2025.2)\n",
            "Requirement already satisfied: contourpy>=1.0.1 in /usr/local/lib/python3.11/dist-packages (from matplotlib->-r /content/cfa-curriculum-python/requirements.txt (line 5)) (1.3.2)\n",
            "Requirement already satisfied: cycler>=0.10 in /usr/local/lib/python3.11/dist-packages (from matplotlib->-r /content/cfa-curriculum-python/requirements.txt (line 5)) (0.12.1)\n",
            "Requirement already satisfied: fonttools>=4.22.0 in /usr/local/lib/python3.11/dist-packages (from matplotlib->-r /content/cfa-curriculum-python/requirements.txt (line 5)) (4.58.4)\n",
            "Requirement already satisfied: kiwisolver>=1.3.1 in /usr/local/lib/python3.11/dist-packages (from matplotlib->-r /content/cfa-curriculum-python/requirements.txt (line 5)) (1.4.8)\n",
            "Requirement already satisfied: packaging>=20.0 in /usr/local/lib/python3.11/dist-packages (from matplotlib->-r /content/cfa-curriculum-python/requirements.txt (line 5)) (24.2)\n",
            "Requirement already satisfied: pillow>=8 in /usr/local/lib/python3.11/dist-packages (from matplotlib->-r /content/cfa-curriculum-python/requirements.txt (line 5)) (11.2.1)\n",
            "Requirement already satisfied: pyparsing>=2.3.1 in /usr/local/lib/python3.11/dist-packages (from matplotlib->-r /content/cfa-curriculum-python/requirements.txt (line 5)) (3.2.3)\n",
            "Requirement already satisfied: six>=1.5 in /usr/local/lib/python3.11/dist-packages (from python-dateutil>=2.8.2->pandas->-r /content/cfa-curriculum-python/requirements.txt (line 4)) (1.17.0)\n",
            "Downloading numpy_financial-1.0.0-py3-none-any.whl (14 kB)\n",
            "Installing collected packages: numpy-financial\n",
            "Successfully installed numpy-financial-1.0.0\n"
          ]
        }
      ],
      "source": [
        "# Step 1: Clone your repo\n",
        "!git clone https://github.com/VD-art/cfa-curriculum-python.git\n",
        "\n",
        "# Step 2: Install required packages\n",
        "!pip install -r /content/cfa-curriculum-python/requirements.txt\n",
        "\n",
        "# Step 3: Add repo to Python path\n",
        "import sys\n",
        "sys.path.append('/content/cfa-curriculum-python')\n"
      ]
    },
    {
      "cell_type": "code",
      "source": [
        "from scripts.quant.annualized_returns import (\n",
        "    annualize_return,\n",
        "    effective_annual_rate,\n",
        "    continuous_compounding_rate,\n",
        "    discrete_rate_from_continuous\n",
        ")\n"
      ],
      "metadata": {
        "id": "N6EQTeGI58-u"
      },
      "execution_count": 2,
      "outputs": []
    },
    {
      "cell_type": "code",
      "source": [
        "monthly_return = 0.01  # 1% per month\n",
        "annual = annualize_return(monthly_return, 12)\n",
        "print(f\"Annualized return from monthly: {annual:.2%}\")\n"
      ],
      "metadata": {
        "colab": {
          "base_uri": "https://localhost:8080/"
        },
        "id": "slD1KwTF59le",
        "outputId": "1a1e0010-5b46-47c2-98cb-41692b885d32"
      },
      "execution_count": 3,
      "outputs": [
        {
          "output_type": "stream",
          "name": "stdout",
          "text": [
            "Annualized return from monthly: 12.68%\n"
          ]
        }
      ]
    },
    {
      "cell_type": "code",
      "source": [
        "nominal_rate = 0.12  # 12% annual nominal rate\n",
        "compounding_periods = 12  # monthly\n",
        "\n",
        "ear = effective_annual_rate(nominal_rate, compounding_periods)\n",
        "print(f\"Effective annual rate (EAR): {ear:.2%}\")\n"
      ],
      "metadata": {
        "colab": {
          "base_uri": "https://localhost:8080/"
        },
        "id": "48bi9Y2J6FTf",
        "outputId": "4b7d8e85-83e7-4ba0-d7fa-315d9d0a72d9"
      },
      "execution_count": 4,
      "outputs": [
        {
          "output_type": "stream",
          "name": "stdout",
          "text": [
            "Effective annual rate (EAR): 12.68%\n"
          ]
        }
      ]
    },
    {
      "cell_type": "code",
      "source": [
        "discrete = 0.12  # 12% annual\n",
        "cont = continuous_compounding_rate(discrete)\n",
        "print(f\"Continuously compounded rate: {cont:.2%}\")\n",
        "\n",
        "# Convert back\n",
        "back_to_discrete = discrete_rate_from_continuous(cont)\n",
        "print(f\"Back to discrete annual rate: {back_to_discrete:.2%}\")\n"
      ],
      "metadata": {
        "colab": {
          "base_uri": "https://localhost:8080/"
        },
        "id": "jGyMte8x6QOW",
        "outputId": "4fb29e51-aea2-4e24-dd5d-9d6bddb740a7"
      },
      "execution_count": 5,
      "outputs": [
        {
          "output_type": "stream",
          "name": "stdout",
          "text": [
            "Continuously compounded rate: 11.33%\n",
            "Back to discrete annual rate: 12.00%\n"
          ]
        }
      ]
    }
  ]
}