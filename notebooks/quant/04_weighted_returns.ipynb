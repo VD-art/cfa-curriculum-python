{
  "nbformat": 4,
  "nbformat_minor": 0,
  "metadata": {
    "colab": {
      "provenance": [],
      "authorship_tag": "ABX9TyNFMVPch0DSONTzcBh49j8B",
      "include_colab_link": true
    },
    "kernelspec": {
      "name": "python3",
      "display_name": "Python 3"
    },
    "language_info": {
      "name": "python"
    }
  },
  "cells": [
    {
      "cell_type": "markdown",
      "metadata": {
        "id": "view-in-github",
        "colab_type": "text"
      },
      "source": [
        "<a href=\"https://colab.research.google.com/github/VD-art/cfa-curriculum-python/blob/main/notebooks/quant/04_weighted_returns.ipynb\" target=\"_parent\"><img src=\"https://colab.research.google.com/assets/colab-badge.svg\" alt=\"Open In Colab\"/></a>"
      ]
    },
    {
      "cell_type": "markdown",
      "source": [
        "# 📍 Lesson 1 – Topic 4: Money-Weighted Return (MWR) vs Time-Weighted Return (TWR)\n",
        "\n",
        "- MWR = IRR: return considering timing & amount of cash flows  \n",
        "- TWR: neutralizes cash flows; measures manager performance\n",
        "\n",
        "Both are useful for different purposes."
      ],
      "metadata": {
        "id": "EszVxnc3bIV2"
      }
    },
    {
      "cell_type": "code",
      "execution_count": 1,
      "metadata": {
        "colab": {
          "base_uri": "https://localhost:8080/"
        },
        "id": "GhXC_alTap60",
        "outputId": "ae9be206-6424-47e3-bec6-b3a4e0bae035"
      },
      "outputs": [
        {
          "output_type": "stream",
          "name": "stdout",
          "text": [
            "Cloning into 'cfa-curriculum-python'...\n",
            "remote: Enumerating objects: 102, done.\u001b[K\n",
            "remote: Counting objects: 100% (102/102), done.\u001b[K\n",
            "remote: Compressing objects: 100% (82/82), done.\u001b[K\n",
            "remote: Total 102 (delta 32), reused 0 (delta 0), pack-reused 0 (from 0)\u001b[K\n",
            "Receiving objects: 100% (102/102), 50.79 KiB | 5.08 MiB/s, done.\n",
            "Resolving deltas: 100% (32/32), done.\n",
            "Requirement already satisfied: numpy in /usr/local/lib/python3.11/dist-packages (from -r /content/cfa-curriculum-python/requirements.txt (line 1)) (2.0.2)\n",
            "Collecting numpy-financial (from -r /content/cfa-curriculum-python/requirements.txt (line 2))\n",
            "  Downloading numpy_financial-1.0.0-py3-none-any.whl.metadata (2.2 kB)\n",
            "Requirement already satisfied: scipy in /usr/local/lib/python3.11/dist-packages (from -r /content/cfa-curriculum-python/requirements.txt (line 3)) (1.15.3)\n",
            "Requirement already satisfied: pandas in /usr/local/lib/python3.11/dist-packages (from -r /content/cfa-curriculum-python/requirements.txt (line 4)) (2.2.2)\n",
            "Requirement already satisfied: matplotlib in /usr/local/lib/python3.11/dist-packages (from -r /content/cfa-curriculum-python/requirements.txt (line 5)) (3.10.0)\n",
            "Requirement already satisfied: python-dateutil>=2.8.2 in /usr/local/lib/python3.11/dist-packages (from pandas->-r /content/cfa-curriculum-python/requirements.txt (line 4)) (2.9.0.post0)\n",
            "Requirement already satisfied: pytz>=2020.1 in /usr/local/lib/python3.11/dist-packages (from pandas->-r /content/cfa-curriculum-python/requirements.txt (line 4)) (2025.2)\n",
            "Requirement already satisfied: tzdata>=2022.7 in /usr/local/lib/python3.11/dist-packages (from pandas->-r /content/cfa-curriculum-python/requirements.txt (line 4)) (2025.2)\n",
            "Requirement already satisfied: contourpy>=1.0.1 in /usr/local/lib/python3.11/dist-packages (from matplotlib->-r /content/cfa-curriculum-python/requirements.txt (line 5)) (1.3.2)\n",
            "Requirement already satisfied: cycler>=0.10 in /usr/local/lib/python3.11/dist-packages (from matplotlib->-r /content/cfa-curriculum-python/requirements.txt (line 5)) (0.12.1)\n",
            "Requirement already satisfied: fonttools>=4.22.0 in /usr/local/lib/python3.11/dist-packages (from matplotlib->-r /content/cfa-curriculum-python/requirements.txt (line 5)) (4.58.4)\n",
            "Requirement already satisfied: kiwisolver>=1.3.1 in /usr/local/lib/python3.11/dist-packages (from matplotlib->-r /content/cfa-curriculum-python/requirements.txt (line 5)) (1.4.8)\n",
            "Requirement already satisfied: packaging>=20.0 in /usr/local/lib/python3.11/dist-packages (from matplotlib->-r /content/cfa-curriculum-python/requirements.txt (line 5)) (24.2)\n",
            "Requirement already satisfied: pillow>=8 in /usr/local/lib/python3.11/dist-packages (from matplotlib->-r /content/cfa-curriculum-python/requirements.txt (line 5)) (11.2.1)\n",
            "Requirement already satisfied: pyparsing>=2.3.1 in /usr/local/lib/python3.11/dist-packages (from matplotlib->-r /content/cfa-curriculum-python/requirements.txt (line 5)) (3.2.3)\n",
            "Requirement already satisfied: six>=1.5 in /usr/local/lib/python3.11/dist-packages (from python-dateutil>=2.8.2->pandas->-r /content/cfa-curriculum-python/requirements.txt (line 4)) (1.17.0)\n",
            "Downloading numpy_financial-1.0.0-py3-none-any.whl (14 kB)\n",
            "Installing collected packages: numpy-financial\n",
            "Successfully installed numpy-financial-1.0.0\n"
          ]
        }
      ],
      "source": [
        "# Clone repo\n",
        "!git clone https://github.com/VD-art/cfa-curriculum-python.git\n",
        "\n",
        "# Install dependencies\n",
        "!pip install -r /content/cfa-curriculum-python/requirements.txt\n",
        "\n",
        "# Add repo to Python path\n",
        "import sys\n",
        "sys.path.append('/content/cfa-curriculum-python')"
      ]
    },
    {
      "cell_type": "code",
      "source": [
        "from scripts.quant.weighted_returns import money_weighted_return, time_weighted_return"
      ],
      "metadata": {
        "id": "Mv2NnqgEbg7b"
      },
      "execution_count": 2,
      "outputs": []
    },
    {
      "cell_type": "code",
      "source": [
        "cash_flows = [-1000, 300, 420, 680]  # Example: invest -1000, then get 300, 420, 680\n",
        "\n",
        "mwr = money_weighted_return(cash_flows)\n",
        "print(f\"Money-weighted return (MWR): {mwr:.2%}\")\n"
      ],
      "metadata": {
        "colab": {
          "base_uri": "https://localhost:8080/"
        },
        "id": "lKpwpdv4bjK1",
        "outputId": "d07b6918-c66c-414f-a8ff-4dd2e5e14579"
      },
      "execution_count": 3,
      "outputs": [
        {
          "output_type": "stream",
          "name": "stdout",
          "text": [
            "Money-weighted return (MWR): 16.34%\n"
          ]
        }
      ]
    },
    {
      "cell_type": "code",
      "source": [
        "period_returns = [0.05, 0.07, 0.04]  # Example: 5%, 7%, 4% over three periods\n",
        "\n",
        "twr = time_weighted_return(period_returns)\n",
        "print(f\"Time-weighted return (TWR): {twr:.2%}\")\n"
      ],
      "metadata": {
        "colab": {
          "base_uri": "https://localhost:8080/"
        },
        "id": "GHRu1uCmblWT",
        "outputId": "615b55ab-6ed9-4e20-ebce-7812e88138bb"
      },
      "execution_count": 4,
      "outputs": [
        {
          "output_type": "stream",
          "name": "stdout",
          "text": [
            "Time-weighted return (TWR): 5.33%\n"
          ]
        }
      ]
    },
    {
      "cell_type": "code",
      "source": [
        "labels = ['MWR', 'TWR']\n",
        "values = [mwr, twr]\n",
        "\n",
        "plt.bar(labels, values, color=['blue', 'green'])\n",
        "plt.ylabel('Return')\n",
        "plt.title('Money-weighted vs Time-weighted return')\n",
        "plt.show()\n"
      ],
      "metadata": {
        "colab": {
          "base_uri": "https://localhost:8080/",
          "height": 452
        },
        "id": "xR0zi5HdbptA",
        "outputId": "16770d6d-e039-472e-a8a9-47363a58c53f"
      },
      "execution_count": 6,
      "outputs": [
        {
          "output_type": "display_data",
          "data": {
            "text/plain": [
              "<Figure size 640x480 with 1 Axes>"
            ],
            "image/png": "[encoded data removed]"
          },
          "metadata": {}
        }
      ]
    }
  ]
}