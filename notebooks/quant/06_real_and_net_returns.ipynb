{
  "nbformat": 4,
  "nbformat_minor": 0,
  "metadata": {
    "colab": {
      "provenance": [],
      "authorship_tag": "ABX9TyOK0zDbvSUeF9PmjKDxkJ7d",
      "include_colab_link": true
    },
    "kernelspec": {
      "name": "python3",
      "display_name": "Python 3"
    },
    "language_info": {
      "name": "python"
    }
  },
  "cells": [
    {
      "cell_type": "markdown",
      "metadata": {
        "id": "view-in-github",
        "colab_type": "text"
      },
      "source": [
        "<a href=\"https://colab.research.google.com/github/VD-art/cfa-curriculum-python/blob/main/notebooks/quant/06_real_and_net_returns.ipynb\" target=\"_parent\"><img src=\"https://colab.research.google.com/assets/colab-badge.svg\" alt=\"Open In Colab\"/></a>"
      ]
    },
    {
      "cell_type": "markdown",
      "source": [
        "# 📍 Lesson 1 – Gross vs Net Return & Real Return\n",
        "\n",
        "- Gross return: before costs\n",
        "- Net return: after fees & taxes\n",
        "- Real return: adjusted for inflation\n"
      ],
      "metadata": {
        "id": "6NOjw7qv80nY"
      }
    },
    {
      "cell_type": "code",
      "execution_count": 1,
      "metadata": {
        "colab": {
          "base_uri": "https://localhost:8080/"
        },
        "id": "qJlNmIRK8vAF",
        "outputId": "617ae037-d3bd-4465-adc9-5c8ff2de6fa5"
      },
      "outputs": [
        {
          "output_type": "stream",
          "name": "stdout",
          "text": [
            "Cloning into 'cfa-curriculum-python'...\n",
            "remote: Enumerating objects: 128, done.\u001b[K\n",
            "remote: Counting objects: 100% (128/128), done.\u001b[K\n",
            "remote: Compressing objects: 100% (103/103), done.\u001b[K\n",
            "remote: Total 128 (delta 44), reused 0 (delta 0), pack-reused 0 (from 0)\u001b[K\n",
            "Receiving objects: 100% (128/128), 73.30 KiB | 600.00 KiB/s, done.\n",
            "Resolving deltas: 100% (44/44), done.\n",
            "Requirement already satisfied: numpy in /usr/local/lib/python3.11/dist-packages (from -r /content/cfa-curriculum-python/requirements.txt (line 1)) (2.0.2)\n",
            "Collecting numpy-financial (from -r /content/cfa-curriculum-python/requirements.txt (line 2))\n",
            "  Downloading numpy_financial-1.0.0-py3-none-any.whl.metadata (2.2 kB)\n",
            "Requirement already satisfied: scipy in /usr/local/lib/python3.11/dist-packages (from -r /content/cfa-curriculum-python/requirements.txt (line 3)) (1.15.3)\n",
            "Requirement already satisfied: pandas in /usr/local/lib/python3.11/dist-packages (from -r /content/cfa-curriculum-python/requirements.txt (line 4)) (2.2.2)\n",
            "Requirement already satisfied: matplotlib in /usr/local/lib/python3.11/dist-packages (from -r /content/cfa-curriculum-python/requirements.txt (line 5)) (3.10.0)\n",
            "Requirement already satisfied: python-dateutil>=2.8.2 in /usr/local/lib/python3.11/dist-packages (from pandas->-r /content/cfa-curriculum-python/requirements.txt (line 4)) (2.9.0.post0)\n",
            "Requirement already satisfied: pytz>=2020.1 in /usr/local/lib/python3.11/dist-packages (from pandas->-r /content/cfa-curriculum-python/requirements.txt (line 4)) (2025.2)\n",
            "Requirement already satisfied: tzdata>=2022.7 in /usr/local/lib/python3.11/dist-packages (from pandas->-r /content/cfa-curriculum-python/requirements.txt (line 4)) (2025.2)\n",
            "Requirement already satisfied: contourpy>=1.0.1 in /usr/local/lib/python3.11/dist-packages (from matplotlib->-r /content/cfa-curriculum-python/requirements.txt (line 5)) (1.3.2)\n",
            "Requirement already satisfied: cycler>=0.10 in /usr/local/lib/python3.11/dist-packages (from matplotlib->-r /content/cfa-curriculum-python/requirements.txt (line 5)) (0.12.1)\n",
            "Requirement already satisfied: fonttools>=4.22.0 in /usr/local/lib/python3.11/dist-packages (from matplotlib->-r /content/cfa-curriculum-python/requirements.txt (line 5)) (4.58.4)\n",
            "Requirement already satisfied: kiwisolver>=1.3.1 in /usr/local/lib/python3.11/dist-packages (from matplotlib->-r /content/cfa-curriculum-python/requirements.txt (line 5)) (1.4.8)\n",
            "Requirement already satisfied: packaging>=20.0 in /usr/local/lib/python3.11/dist-packages (from matplotlib->-r /content/cfa-curriculum-python/requirements.txt (line 5)) (24.2)\n",
            "Requirement already satisfied: pillow>=8 in /usr/local/lib/python3.11/dist-packages (from matplotlib->-r /content/cfa-curriculum-python/requirements.txt (line 5)) (11.2.1)\n",
            "Requirement already satisfied: pyparsing>=2.3.1 in /usr/local/lib/python3.11/dist-packages (from matplotlib->-r /content/cfa-curriculum-python/requirements.txt (line 5)) (3.2.3)\n",
            "Requirement already satisfied: six>=1.5 in /usr/local/lib/python3.11/dist-packages (from python-dateutil>=2.8.2->pandas->-r /content/cfa-curriculum-python/requirements.txt (line 4)) (1.17.0)\n",
            "Downloading numpy_financial-1.0.0-py3-none-any.whl (14 kB)\n",
            "Installing collected packages: numpy-financial\n",
            "Successfully installed numpy-financial-1.0.0\n"
          ]
        }
      ],
      "source": [
        "# Step 1: Clone your repo\n",
        "!git clone https://github.com/VD-art/cfa-curriculum-python.git\n",
        "\n",
        "# Step 2: Install required packages\n",
        "!pip install -r /content/cfa-curriculum-python/requirements.txt\n",
        "\n",
        "# Step 3: Add repo to Python path\n",
        "import sys\n",
        "sys.path.append('/content/cfa-curriculum-python')\n"
      ]
    },
    {
      "cell_type": "code",
      "source": [
        "from scripts.quant.real_and_net_returns import gross_return, net_return, real_return\n"
      ],
      "metadata": {
        "id": "mKPvVaYC83aw"
      },
      "execution_count": 2,
      "outputs": []
    },
    {
      "cell_type": "code",
      "source": [
        "ending_value = 1200\n",
        "beginning_value = 1000\n",
        "\n",
        "gross = gross_return(ending_value, beginning_value)\n",
        "print(f\"Gross return: {gross:.2%}\")\n",
        "\n",
        "fees = 0.01   # 1%\n",
        "taxes = 0.20  # 20%\n",
        "\n",
        "net = net_return(gross, fees, taxes)\n",
        "print(f\"Net return after fees & taxes: {net:.2%}\")\n"
      ],
      "metadata": {
        "colab": {
          "base_uri": "https://localhost:8080/"
        },
        "id": "0vC46_8d9A6y",
        "outputId": "2eef7f63-1f80-432d-cd87-bdd9b824c69d"
      },
      "execution_count": 3,
      "outputs": [
        {
          "output_type": "stream",
          "name": "stdout",
          "text": [
            "Gross return: 20.00%\n",
            "Net return after fees & taxes: 15.84%\n"
          ]
        }
      ]
    },
    {
      "cell_type": "code",
      "source": [
        "nominal = 0.20\n",
        "inflation = 0.03\n",
        "\n",
        "real = real_return(nominal, inflation)\n",
        "print(f\"Real return: {real:.2%}\")\n"
      ],
      "metadata": {
        "colab": {
          "base_uri": "https://localhost:8080/"
        },
        "id": "jqK2dza49JgP",
        "outputId": "1655d111-e99c-443a-e3ff-a52b92455e94"
      },
      "execution_count": 4,
      "outputs": [
        {
          "output_type": "stream",
          "name": "stdout",
          "text": [
            "Real return: 16.50%\n"
          ]
        }
      ]
    },
    {
      "cell_type": "code",
      "source": [
        "import matplotlib.pyplot as plt\n",
        "\n",
        "labels = ['Nominal return', 'Real return']\n",
        "values = [nominal, real]\n",
        "\n",
        "plt.bar(labels, values, color=['blue', 'green'])\n",
        "plt.ylabel('Return')\n",
        "plt.title('Nominal vs Real return')\n",
        "plt.show()\n"
      ],
      "metadata": {
        "colab": {
          "base_uri": "https://localhost:8080/",
          "height": 452
        },
        "id": "K1DRIZlT94D2",
        "outputId": "8f770b21-9e60-48bc-d999-552153a6289f"
      },
      "execution_count": 5,
      "outputs": [
        {
          "output_type": "display_data",
          "data": {
            "text/plain": [
              "<Figure size 640x480 with 1 Axes>"
            ],
            "image/png": "[encoded data removed]"
          },
          "metadata": {}
        }
      ]
    },
    {
      "cell_type": "code",
      "source": [],
      "metadata": {
        "id": "8sDIEHNe-CQA"
      },
      "execution_count": null,
      "outputs": []
    }
  ]
}