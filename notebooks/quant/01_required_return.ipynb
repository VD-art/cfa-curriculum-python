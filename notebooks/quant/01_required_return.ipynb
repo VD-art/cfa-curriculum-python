{
  "nbformat": 4,
  "nbformat_minor": 0,
  "metadata": {
    "colab": {
      "provenance": [],
      "authorship_tag": "ABX9TyMRmsOjEgRjpmt/uh5K0Z4A",
      "include_colab_link": true
    },
    "kernelspec": {
      "name": "python3",
      "display_name": "Python 3"
    },
    "language_info": {
      "name": "python"
    }
  },
  "cells": [
    {
      "cell_type": "markdown",
      "metadata": {
        "id": "view-in-github",
        "colab_type": "text"
      },
      "source": [
        "<a href=\"https://colab.research.google.com/github/VD-art/cfa-curriculum-python/blob/main/notebooks/quant/01_required_return.ipynb\" target=\"_parent\"><img src=\"https://colab.research.google.com/assets/colab-badge.svg\" alt=\"Open In Colab\"/></a>"
      ]
    },
    {
      "cell_type": "markdown",
      "source": [
        "# 📍 Lesson 1 – Topic 1: Required Return, Discount Rate, Opportunity Cost\n",
        "\n",
        "We calculate required return as:\n",
        "> required return = real risk-free rate + inflation premium + default risk premium + liquidity premium + maturity premium\n",
        "\n",
        "This reflects the minimum return investors demand.\n"
      ],
      "metadata": {
        "id": "4RvoshcDjI4f"
      }
    },
    {
      "cell_type": "code",
      "execution_count": 1,
      "metadata": {
        "colab": {
          "base_uri": "https://localhost:8080/"
        },
        "id": "rRWzRNcDjEso",
        "outputId": "e00a9efb-257d-4687-9edd-647ccc59ed77"
      },
      "outputs": [
        {
          "output_type": "stream",
          "name": "stdout",
          "text": [
            "Cloning into 'cfa-curriculum-python'...\n",
            "remote: Enumerating objects: 67, done.\u001b[K\n",
            "remote: Counting objects: 100% (67/67), done.\u001b[K\n",
            "remote: Compressing objects: 100% (54/54), done.\u001b[K\n",
            "remote: Total 67 (delta 19), reused 0 (delta 0), pack-reused 0 (from 0)\u001b[K\n",
            "Receiving objects: 100% (67/67), 21.11 KiB | 7.04 MiB/s, done.\n",
            "Resolving deltas: 100% (19/19), done.\n"
          ]
        }
      ],
      "source": [
        "# Step 1: Clone repo\n",
        "!git clone https://github.com/VD-art/cfa-curriculum-python.git\n",
        "\n",
        "# Step 2: Add repo to path\n",
        "import sys\n",
        "sys.path.append('/content/cfa-curriculum-python')"
      ]
    },
    {
      "cell_type": "code",
      "source": [
        "# Step 3: Import function\n",
        "from scripts.quant.required_return import calculate_required_return"
      ],
      "metadata": {
        "id": "Ftxz9mSDjhH1"
      },
      "execution_count": 2,
      "outputs": []
    },
    {
      "cell_type": "code",
      "source": [
        "# Step 4: Use the function\n",
        "# Example values\n",
        "real_risk_free_rate = 0.02\n",
        "inflation_premium = 0.015\n",
        "default_risk_premium = 0.01\n",
        "liquidity_premium = 0.005\n",
        "maturity_premium = 0.004\n",
        "\n",
        "required = calculate_required_return(real_risk_free_rate, inflation_premium,\n",
        "                                     default_risk_premium, liquidity_premium, maturity_premium)\n",
        "\n",
        "print(f\"Required return: {required:.2%}\")"
      ],
      "metadata": {
        "colab": {
          "base_uri": "https://localhost:8080/"
        },
        "id": "rrmxw0zzjugp",
        "outputId": "c0234502-8668-4c22-f9cb-9b860c521073"
      },
      "execution_count": 3,
      "outputs": [
        {
          "output_type": "stream",
          "name": "stdout",
          "text": [
            "Required return: 5.40%\n"
          ]
        }
      ]
    }
  ]
}