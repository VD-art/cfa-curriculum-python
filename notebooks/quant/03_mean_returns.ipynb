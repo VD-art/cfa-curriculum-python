{
  "nbformat": 4,
  "nbformat_minor": 0,
  "metadata": {
    "colab": {
      "provenance": [],
      "authorship_tag": "ABX9TyMkX6gnyMWox4fDVPddLHa5",
      "include_colab_link": true
    },
    "kernelspec": {
      "name": "python3",
      "display_name": "Python 3"
    },
    "language_info": {
      "name": "python"
    }
  },
  "cells": [
    {
      "cell_type": "markdown",
      "metadata": {
        "id": "view-in-github",
        "colab_type": "text"
      },
      "source": [
        "<a href=\"https://colab.research.google.com/github/VD-art/cfa-curriculum-python/blob/main/notebooks/quant/03_mean_returns.ipynb\" target=\"_parent\"><img src=\"https://colab.research.google.com/assets/colab-badge.svg\" alt=\"Open In Colab\"/></a>"
      ]
    },
    {
      "cell_type": "markdown",
      "source": [
        "# 📍 Lesson 1 – Topic 3: Mean Returns\n",
        "\n",
        "We calculate:\n",
        "- Arithmetic mean: simple average\n",
        "- Geometric mean: average compound return over multiple periods\n",
        "- Harmonic mean: useful when averaging ratios like P/E\n",
        "\n",
        "All formulas use returns in decimal (e.g., 0.05 for 5%).\n"
      ],
      "metadata": {
        "id": "tLQWQNZuRIJf"
      }
    },
    {
      "cell_type": "code",
      "execution_count": 1,
      "metadata": {
        "colab": {
          "base_uri": "https://localhost:8080/"
        },
        "id": "jyyivqLsOcjM",
        "outputId": "a6fca5ba-7165-43a0-9a82-985f4f65f0da"
      },
      "outputs": [
        {
          "output_type": "stream",
          "name": "stdout",
          "text": [
            "Cloning into 'cfa-curriculum-python'...\n",
            "remote: Enumerating objects: 87, done.\u001b[K\n",
            "remote: Counting objects: 100% (87/87), done.\u001b[K\n",
            "remote: Compressing objects: 100% (70/70), done.\u001b[K\n",
            "Receiving objects: 100% (87/87), 46.61 KiB | 900.00 KiB/s, done.\n",
            "remote: Total 87 (delta 26), reused 0 (delta 0), pack-reused 0 (from 0)\u001b[K\n",
            "Resolving deltas: 100% (26/26), done.\n"
          ]
        }
      ],
      "source": [
        "!git clone https://github.com/VD-art/cfa-curriculum-python.git\n",
        "\n",
        "import sys\n",
        "sys.path.append('/content/cfa-curriculum-python')"
      ]
    },
    {
      "cell_type": "code",
      "source": [
        "from scripts.quant.mean_returns import arithmetic_mean, geometric_mean, harmonic_mean"
      ],
      "metadata": {
        "id": "7Cv8ryVmRW84"
      },
      "execution_count": 2,
      "outputs": []
    },
    {
      "cell_type": "code",
      "source": [
        "returns = [0.05, 0.10, -0.02, 0.07]\n",
        "\n",
        "a_mean = arithmetic_mean(returns)\n",
        "g_mean = geometric_mean(returns)\n",
        "\n",
        "print(f\"Arithmetic mean: {a_mean:.2%}\")\n",
        "print(f\"Geometric mean: {g_mean:.2%}\")"
      ],
      "metadata": {
        "colab": {
          "base_uri": "https://localhost:8080/"
        },
        "id": "pa2lJHP0Rfup",
        "outputId": "c9a78817-c539-474f-b32f-05e31fa44cc2"
      },
      "execution_count": 3,
      "outputs": [
        {
          "output_type": "stream",
          "name": "stdout",
          "text": [
            "Arithmetic mean: 5.00%\n",
            "Geometric mean: 4.91%\n"
          ]
        }
      ]
    },
    {
      "cell_type": "code",
      "source": [
        "pe_ratios = [10, 12, 8, 11]\n",
        "\n",
        "h_mean = harmonic_mean(pe_ratios)\n",
        "print(f\"Harmonic mean of P/E ratios: {h_mean:.2f}\")"
      ],
      "metadata": {
        "colab": {
          "base_uri": "https://localhost:8080/"
        },
        "id": "bAhTiZqOSp2s",
        "outputId": "5053ed7b-6dcf-4a41-e226-51916188ef84"
      },
      "execution_count": 13,
      "outputs": [
        {
          "output_type": "stream",
          "name": "stdout",
          "text": [
            "Harmonic mean of P/E ratios: 10.02\n"
          ]
        }
      ]
    }
  ]
}